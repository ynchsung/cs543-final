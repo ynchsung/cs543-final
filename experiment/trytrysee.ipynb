{
 "cells": [
  {
   "cell_type": "code",
   "execution_count": null,
   "metadata": {},
   "outputs": [],
   "source": [
    "%matplotlib inline\n",
    "import numpy as np\n",
    "import cv2\n",
    "import matplotlib.image as mpimg\n",
    "import matplotlib.pyplot as plt\n",
    "import skimage\n",
    "import scipy\n",
    "import os\n",
    "import scipy.ndimage\n",
    "from skimage.transform import SimilarityTransform, warp\n",
    "import datetime\n",
    "import random as rd\n",
    "from pylab import *\n",
    "from scipy import signal\n",
    "from scipy import *\n",
    "from PIL import Image"
   ]
  },
  {
   "cell_type": "code",
   "execution_count": null,
   "metadata": {},
   "outputs": [],
   "source": [
    "img_name = '../data/sudoku/sudoku9.jpg'\n",
    "# img_name = \"samurai.png\"\n",
    "N = 9  # samurai : 21*21, normal: 9*9\n",
    "L = 450 # image size after transformed"
   ]
  },
  {
   "cell_type": "code",
   "execution_count": null,
   "metadata": {},
   "outputs": [],
   "source": [
    "img = cv2.imread(img_name).astype(np.uint8)\n",
    "gray = cv2.cvtColor(img, cv2.COLOR_BGR2GRAY)\n",
    "im = Image.fromarray(gray, mode='L')\n",
    "im.show()"
   ]
  },
  {
   "cell_type": "code",
   "execution_count": null,
   "metadata": {},
   "outputs": [],
   "source": [
    "# blur = cv2.GaussianBlur(gray,(3,3),0)\n",
    "# im = Image.fromarray(blur, mode='L')\n",
    "# im.show()"
   ]
  },
  {
   "cell_type": "code",
   "execution_count": null,
   "metadata": {},
   "outputs": [],
   "source": [
    "edges = cv2.Canny(gray,100,150)\n",
    "im = Image.fromarray(edges, mode='L')\n",
    "im.show()"
   ]
  },
  {
   "cell_type": "code",
   "execution_count": null,
   "metadata": {},
   "outputs": [],
   "source": [
    "_, contours, _ = cv2.findContours(edges,cv2.RETR_TREE,cv2.CHAIN_APPROX_SIMPLE)\n",
    "contours = sorted(contours, key=cv2.contourArea,reverse=True)\n",
    "contoured = np.copy(img)\n",
    "cv2.drawContours(contoured, contours[0], -1, (0,255,0), 3)\n",
    "cv2.drawContours(contoured, contours[1], -1, (0,0,255), 3)\n",
    "cv2.drawContours(contoured, contours[2], -1, (255,0,0), 3)\n",
    "cv2.drawContours(contoured, contours[3], -1, (0,255,255), 3)\n",
    "im = Image.fromarray(contoured, mode='RGB')\n",
    "im.show()"
   ]
  },
  {
   "cell_type": "code",
   "execution_count": null,
   "metadata": {},
   "outputs": [],
   "source": [
    "# plot contour on black background\n",
    "empty = np.zeros(img.shape).astype(np.uint8)\n",
    "tmp = cv2.drawContours(empty, contours, -1, (0,255,0), 3)\n",
    "print(tmp.shape)\n",
    "for p in contours[0]:\n",
    "    x,y=p[0][1], p[0][0]\n",
    "    tmp[x-2:x+3, y-2:y+3, 0] = np.ones((5,5)).astype(np.uint8)*255\n",
    "    tmp[x-2:x+3, y-2:y+3, 1] = np.zeros((5,5)).astype(np.uint8)\n",
    "\n",
    "x,y=contours[0][0][0][1], contours[0][0][0][0]\n",
    "tmp[x-3:x+4, y-3:y+4, 2] = np.ones((7,7)).astype(np.uint8)*255\n",
    "tmp[x-3:x+4, y-3:y+4, 1] = np.zeros((7,7)).astype(np.uint8)\n",
    "tmp[x-3:x+4, y-3:y+4, 0] = np.zeros((7,7)).astype(np.uint8)\n",
    "tmp = Image.fromarray(tmp, mode='RGB')\n",
    "tmp.show()"
   ]
  },
  {
   "cell_type": "code",
   "execution_count": null,
   "metadata": {
    "scrolled": false
   },
   "outputs": [],
   "source": [
    "# get four corner\n",
    "for i in range(1,1000):\n",
    "    epsilon = i*0.001*cv2.arcLength(contours[0],True)\n",
    "    approx = cv2.approxPolyDP(contours[0],epsilon,True)\n",
    "    tmp = np.array([n[0] for n in approx]).astype(np.float32)\n",
    "    fig, ax = plt.subplots(dpi=100)\n",
    "    ax.set_aspect('equal')\n",
    "    ax.imshow(img)\n",
    "    ax.plot(tmp[:,0], tmp[:,1], '+r')\n",
    "    for j in range(len(tmp)-1):\n",
    "        if j%2:\n",
    "            c = 'r'\n",
    "        else:\n",
    "            c = 'b'\n",
    "        ax.plot(tmp[j:j+2,0],tmp[j:j+2,1], c, linewidth=1)\n",
    "    ax.plot([tmp[0,0], tmp[-1,0]], [tmp[0,1], tmp[-1,1]], 'g', linewidth=1)\n",
    "    plt.axis('off')\n",
    "    plt.show()\n",
    "    if len(approx)<=4:\n",
    "        approx = np.array([n[0] for n in approx]).astype(np.float32)\n",
    "        break\n",
    "\n",
    "x_idx = np.argsort(approx[:,0])\n",
    "first_2_x = approx[x_idx[:2],:]\n",
    "y_idx = np.argsort(first_2_x[:,1])\n",
    "[p00, p01] = x_idx[y_idx]\n",
    "last_2_x = approx[x_idx[2:],:]\n",
    "y_idx = np.argsort(last_2_x[:,1])+2\n",
    "[p10, p11] = x_idx[y_idx]\n",
    "\n",
    "approx = approx[[p00,p10,p11,p01],:]\n",
    "print(\"Four corners of the contour:\",approx)"
   ]
  },
  {
   "cell_type": "code",
   "execution_count": null,
   "metadata": {},
   "outputs": [],
   "source": [
    "# transform image\n",
    "h = np.array([ [0,0],[L-1,0],[L-1,L-1],[0,L-1]]).astype(np.float32)\n",
    "transform = cv2.getPerspectiveTransform(approx,h)\n",
    "warp = cv2.warpPerspective(img,transform, (L, L))\n",
    "im = Image.fromarray(warp, mode='RGB')\n",
    "im.show()"
   ]
  },
  {
   "cell_type": "code",
   "execution_count": null,
   "metadata": {},
   "outputs": [],
   "source": [
    "# cut image\n",
    "cells=[]\n",
    "for i in range(N):\n",
    "    for j in range(N):\n",
    "        cells.append(warp[i*L//N:(i+1)*L//N,j*L//N:(j+1)*L//N])\n"
   ]
  },
  {
   "cell_type": "code",
   "execution_count": null,
   "metadata": {},
   "outputs": [],
   "source": [
    "fig = plt.figure(dpi=150)\n",
    "for i in range(N):\n",
    "    for j in range(N):\n",
    "        a = fig.add_subplot(N, N, i*N+j+1)\n",
    "        a.axes.get_xaxis().set_ticks([])\n",
    "        a.axes.get_yaxis().set_ticks([])\n",
    "        plt.imshow(cells[i*N+j])\n",
    "plt.show()"
   ]
  },
  {
   "cell_type": "code",
   "execution_count": null,
   "metadata": {},
   "outputs": [],
   "source": []
  }
 ],
 "metadata": {
  "kernelspec": {
   "display_name": "Python 3",
   "language": "python",
   "name": "python3"
  },
  "language_info": {
   "codemirror_mode": {
    "name": "ipython",
    "version": 3
   },
   "file_extension": ".py",
   "mimetype": "text/x-python",
   "name": "python",
   "nbconvert_exporter": "python",
   "pygments_lexer": "ipython3",
   "version": "3.6.7"
  }
 },
 "nbformat": 4,
 "nbformat_minor": 2
}
